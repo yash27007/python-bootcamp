{
 "cells": [
  {
   "cell_type": "markdown",
   "id": "575f37b9",
   "metadata": {},
   "source": [
    "### Logging\n",
    "\n",
    "Logging is a curcial aspect of any application, providing a way to track, events, errors and operational information. "
   ]
  },
  {
   "cell_type": "code",
   "execution_count": null,
   "id": "10125f36",
   "metadata": {},
   "outputs": [],
   "source": [
    "# import logging\n",
    "\n",
    "# Configure the basic logging settings\n",
    "\n",
    "# logging.basicConfig(level=logging.DEBUG)\n",
    "\n",
    "## Logging messages with different levels\n",
    "# logging.debug(\"This is a debug message\")\n",
    "# logging.info(\"This is an info message\")\n",
    "# logging.error(\"This is an error message\")\n",
    "# logging.warning(\"This is a warning message\")\n",
    "# logging.critical(\"This is a critical message\")\n"
   ]
  },
  {
   "cell_type": "markdown",
   "id": "d4f53a97",
   "metadata": {},
   "source": [
    "- **DEBUG**: Detailed information, typically of interest only when diagnosing problems.\n",
    "- **INFO**: Confirmation that things are working as expected.\n",
    "- **WARNING**: An indication that something unexpected happened, or indicative of some problem in the near future (e.g., ‘disk space low’). The software is still working as expected.\n",
    "- **ERROR**: Due to a more serious problem, the software has not been able to perform some function.\n",
    "- **CRITICAL**: A very serious error, indicating that the program itself may be unable to continue running."
   ]
  },
  {
   "cell_type": "code",
   "execution_count": null,
   "id": "a4e7d558",
   "metadata": {},
   "outputs": [],
   "source": [
    "# ## configuring logging\n",
    "# logging.basicConfig(\n",
    "#     filename='app.log',\n",
    "#     filemode='w',\n",
    "#     level=logging.DEBUG,\n",
    "#     format='%(asctime)s - %(name)s - %(levelname)s - %(message)s',\n",
    "#     datefmt='%Y-%m-%d %H:%M:%S'\n",
    "# )\n",
    "\n",
    "# logging.debug(\"This is a debug message\")\n",
    "# logging.info(\"This is an info message\")\n",
    "# logging.error(\"This is an error message\")\n",
    "# logging.warning(\"This is a warning message\")\n",
    "# logging.critical(\"This is a critical message\")\n"
   ]
  },
  {
   "cell_type": "code",
   "execution_count": 3,
   "id": "a8e0c673",
   "metadata": {},
   "outputs": [],
   "source": [
    "## logging with multiple loggers\n",
    "\n",
    "import logging\n",
    "\n",
    "logger1 = logging.getLogger(\"module1\")\n",
    "logger1.setLevel(logging.DEBUG)\n",
    "\n",
    "## Create a logger for module 2\n",
    "\n",
    "logger2=logging.getLogger(\"module2\")\n",
    "logger2.setLevel(logging.WARNING)\n",
    "\n",
    "logging.basicConfig(\n",
    "    level=logging.DEBUG,\n",
    "    format='%(asctime)s-%(name)s-%(levelname)s-%(message)s',\n",
    "    datefmt='%Y-%m-%d %H:%M:%S'\n",
    ")\n",
    "\n"
   ]
  },
  {
   "cell_type": "code",
   "execution_count": 4,
   "id": "8be48aca",
   "metadata": {},
   "outputs": [
    {
     "name": "stderr",
     "output_type": "stream",
     "text": [
      "2025-09-05 20:39:41-module1-DEBUG-This is debug message\n",
      "2025-09-05 20:39:41-module2-WARNING-This is a warning message\n"
     ]
    }
   ],
   "source": [
    "logger1.debug(\"This is debug message\")\n",
    "logger2.warning(\"This is a warning message\")"
   ]
  },
  {
   "cell_type": "markdown",
   "id": "de442276",
   "metadata": {},
   "source": [
    "Now we can see the message very much clearly and see the message from each module"
   ]
  }
 ],
 "metadata": {
  "kernelspec": {
   "display_name": "logging",
   "language": "python",
   "name": "python3"
  },
  "language_info": {
   "codemirror_mode": {
    "name": "ipython",
    "version": 3
   },
   "file_extension": ".py",
   "mimetype": "text/x-python",
   "name": "python",
   "nbconvert_exporter": "python",
   "pygments_lexer": "ipython3",
   "version": "3.13.5"
  }
 },
 "nbformat": 4,
 "nbformat_minor": 5
}
