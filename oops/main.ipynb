{
 "cells": [
  {
   "cell_type": "markdown",
   "id": "ef9e4af6",
   "metadata": {},
   "source": [
    "Classes and Objects\n",
    "OOPs is a programming paradigm that uses \"objects\" to design applications and computer programs. OOP allows for modelling real-world scenarios using classes and objects. This Lession covers the basics of creating classes and objects, including instance variables and methods."
   ]
  },
  {
   "cell_type": "markdown",
   "id": "bd059109",
   "metadata": {},
   "source": []
  },
  {
   "cell_type": "code",
   "execution_count": null,
   "id": "b205569a",
   "metadata": {},
   "outputs": [
    {
     "name": "stdout",
     "output_type": "stream",
     "text": [
      "<__main__.Car object at 0x0000017B6B6157F0>\n",
      "<class '__main__.Car'>\n"
     ]
    }
   ],
   "source": [
    "### A class is a blue print for creating objects. Attributes, methods\n",
    "class Car:\n",
    "    pass\n",
    "audi = Car()\n",
    "# prints the object and its memory location\n",
    "print(audi)\n",
    "#prints the type of audi ( Its of type class Car)\n",
    "print(type(audi))"
   ]
  },
  {
   "cell_type": "code",
   "execution_count": null,
   "id": "66bbdccc",
   "metadata": {},
   "outputs": [
    {
     "data": {
      "text/plain": [
       "['__class__',\n",
       " '__delattr__',\n",
       " '__dict__',\n",
       " '__dir__',\n",
       " '__doc__',\n",
       " '__eq__',\n",
       " '__firstlineno__',\n",
       " '__format__',\n",
       " '__ge__',\n",
       " '__getattribute__',\n",
       " '__getstate__',\n",
       " '__gt__',\n",
       " '__hash__',\n",
       " '__init__',\n",
       " '__init_subclass__',\n",
       " '__le__',\n",
       " '__lt__',\n",
       " '__module__',\n",
       " '__ne__',\n",
       " '__new__',\n",
       " '__reduce__',\n",
       " '__reduce_ex__',\n",
       " '__repr__',\n",
       " '__setattr__',\n",
       " '__sizeof__',\n",
       " '__static_attributes__',\n",
       " '__str__',\n",
       " '__subclasshook__',\n",
       " '__weakref__']"
      ]
     },
     "execution_count": 4,
     "metadata": {},
     "output_type": "execute_result"
    }
   ],
   "source": [
    "dir(Car)\n",
    "#print the list of all the inbuilt methods"
   ]
  },
  {
   "cell_type": "code",
   "execution_count": null,
   "id": "01e7cb60",
   "metadata": {},
   "outputs": [
    {
     "name": "stdout",
     "output_type": "stream",
     "text": [
      "<class '__main__.Dog'>\n",
      "<__main__.Dog object at 0x0000017B6CAED550>\n",
      "Timmy of breed German Shepard says Woof!!!\n"
     ]
    }
   ],
   "source": [
    "class Dog:\n",
    "    ##constuctor\n",
    "    def __init__(self,name:str,breed:str):\n",
    "        self.name = name\n",
    "        self.breed = breed\n",
    "    #instalce method\n",
    "    def bark(self):\n",
    "        print(f\"{self.name} of breed {self.breed} says Woof!!!\")\n",
    "\n",
    "\n",
    "dog_1 = Dog(\"Timmy\",\"German Shepard\")\n",
    "print(Dog)\n",
    "print(dog_1)\n",
    "dog_1.bark()"
   ]
  },
  {
   "cell_type": "code",
   "execution_count": 10,
   "id": "75b99dbf",
   "metadata": {},
   "outputs": [
    {
     "name": "stdout",
     "output_type": "stream",
     "text": [
      "The amount of 1000 is deposited and the balance is now : 1000.0\n",
      "Insufficient funds!!!\n",
      "400 is withdrawn. New Balance is 600.0\n"
     ]
    },
    {
     "data": {
      "text/plain": [
       "600.0"
      ]
     },
     "execution_count": 10,
     "metadata": {},
     "output_type": "execute_result"
    }
   ],
   "source": [
    "## Modelling a Bank Account\n",
    "\n",
    "##Define a class for bank account\n",
    "\n",
    "class BankAccount:\n",
    "    def __init__(self,owner:str,balance=0.00):\n",
    "        self.owner = owner\n",
    "        self.balance = balance\n",
    "    \n",
    "    def deposit(self,amount:float):\n",
    "        self.balance+= amount\n",
    "        print(f\"The amount of {amount} is deposited and the balance is now : {self.balance}\")\n",
    "    \n",
    "    def withdraw(self, amount:float):\n",
    "        if amount > self.balance:\n",
    "            print(\"Insufficient funds!!!\")\n",
    "        else:\n",
    "            self.balance-=amount\n",
    "            print(f\"{amount} is withdrawn. New Balance is {self.balance}\")\n",
    "\n",
    "    def get_balance(self):\n",
    "        return self.balance\n",
    "    \n",
    "\n",
    "account = BankAccount(\"Yashwanth\");\n",
    "account.deposit(1000)\n",
    "account.withdraw(2000)\n",
    "account.withdraw(400)\n",
    "account.get_balance()\n",
    "\n",
    "\n"
   ]
  },
  {
   "cell_type": "markdown",
   "id": "71f58ed5",
   "metadata": {},
   "source": [
    "Inhertance In Python\n",
    "\n",
    "Inheritance is a fundamental concept in object-oriented programming that allows a class (called the child or subclass) to inherit attributes and methods from another class (called the parent or superclass). This promotes code reuse and makes it easier to create and maintain applications. Inheritance enables the creation of hierarchical relationships between classes, allowing subclasses to extend or override the functionality of their parent classes."
   ]
  },
  {
   "cell_type": "code",
   "execution_count": null,
   "id": "fbad9788",
   "metadata": {},
   "outputs": [
    {
     "name": "stdout",
     "output_type": "stream",
     "text": [
      "The person will drive the Electric car!\n",
      "The person will drive the Electric car!\n",
      "This model from Tesla support supports self driving!!!\n",
      "This model from Tesla does not support self driving!!!\n"
     ]
    }
   ],
   "source": [
    "#Parent Class\n",
    "\n",
    "class Car:\n",
    "    def __init__(self,windows:int, doors:int, engineType:str):\n",
    "        self.windows = windows\n",
    "        self.doors = doors\n",
    "        self.engineType = engineType\n",
    "    \n",
    "    def drive(self):\n",
    "        print(f\"The person will drive the {self.engineType} car!\")\n",
    "\n",
    "# car1 = Car(4,4,\"Petrol\")\n",
    "# car1.drive()\n",
    "\n",
    "\n",
    "## Inheritence ( Single Inheritence)\n",
    "##Child class\n",
    "\n",
    "class Tesla(Car):\n",
    "    def __init__(self, windows:int, doors:int, engineType:str, isSelfDriving:bool):\n",
    "        ## No need to create the instance varibales again. use super keyword to call the parent class constructor\n",
    "        super().__init__(windows,doors,engineType)\n",
    "        self.isSelfDriving = isSelfDriving\n",
    "    \n",
    "    def selfDriving(self):\n",
    "        if(self.isSelfDriving):\n",
    "            print(\"This model from Tesla support supports self driving!!!\")\n",
    "        else:\n",
    "            print(\"This model from Tesla does not support self driving!!!\")\n",
    "    \n",
    "\n",
    "model_X = Tesla(2,2,\"Electric\",True)\n",
    "model_Y = Tesla(4,4,\"Electric\",False)\n",
    "\n",
    "model_X.drive()\n",
    "model_Y.drive()\n",
    "\n",
    "model_X.selfDriving()\n",
    "model_Y.selfDriving()\n",
    "    \n",
    "\n",
    "\n",
    "\n"
   ]
  },
  {
   "cell_type": "code",
   "execution_count": 23,
   "id": "8c90725a",
   "metadata": {},
   "outputs": [
    {
     "name": "stdout",
     "output_type": "stream",
     "text": [
      "Timmy says woof to his owner Yashwanth!!!\n"
     ]
    }
   ],
   "source": [
    "### Multiple Inhertence - when a class inherits more than one base class\n",
    "\n",
    "class Animal:\n",
    "    def __init__(self,name:str):\n",
    "        self.name = name\n",
    "    def speak(self):\n",
    "        print(\"subclass must implement this method\")\n",
    "\n",
    "class Pet:\n",
    "    def __init__(self, owner: str):\n",
    "        self.owner = owner\n",
    "\n",
    "class Dog(Animal, Pet):\n",
    "    def __init__(self,name:str,owner:str):\n",
    "        # super().__init__(name,owner) <---- This can be also written as the below\n",
    "        Animal.__init__(self,name)\n",
    "        Pet.__init__(self,owner)\n",
    "    def speak(self):\n",
    "        print(f\"{self.name} says woof to his owner {self.owner}!!!\")\n",
    "\n",
    "\n",
    "dog1 = Dog(\"Timmy\",\"Yashwanth\")\n",
    "dog1.speak()\n"
   ]
  },
  {
   "cell_type": "markdown",
   "id": "4f54f269",
   "metadata": {},
   "source": [
    "Polymorphism in Python\n",
    "\n",
    "Polymorphism is an important concept in object-oriented programming that allows objects of different classes to be treated as objects of a common superclass. It enables a single interface to represent different underlying forms (data types). In Python, polymorphism is achieved through method overriding and duck typing. For example, different classes can implement the same method, and the correct method is called based on the object's class at runtime. This makes code more flexible and extensible, allowing functions and methods to operate on objects of different types seamlessly.\n"
   ]
  },
  {
   "cell_type": "code",
   "execution_count": null,
   "id": "87652655",
   "metadata": {},
   "outputs": [
    {
     "name": "stdout",
     "output_type": "stream",
     "text": [
      "Sound of the animal\n",
      "Woof!!\n",
      "Meow\n",
      "Method Overiding!!!\n",
      "Woof!!\n"
     ]
    }
   ],
   "source": [
    "### Method Over riding\n",
    "class Animal:\n",
    "    def speak(self):\n",
    "        return \"Sound of the animal\"\n",
    "\n",
    "class Dog(Animal):\n",
    "    def speak(self):\n",
    "        return \"Woof!!\"\n",
    "\n",
    "class Cat(Animal):\n",
    "    def speak(self):\n",
    "        return \"Meow\"\n",
    "\n",
    "animal = Animal()\n",
    "cat = Cat()\n",
    "dog = Dog()\n",
    "\n",
    "print(animal.speak())\n",
    "print(dog.speak())\n",
    "print(cat.speak())\n",
    "\n",
    "\n",
    "## def method over riding\n",
    "\n",
    "print(\"**************************\")\n",
    "\n",
    "def animal_speak(animal:Animal):\n",
    "    print(animal.speak())\n",
    "\n",
    "animal_speak(dog)"
   ]
  },
  {
   "cell_type": "code",
   "execution_count": 31,
   "id": "0302e5d1",
   "metadata": {},
   "outputs": [
    {
     "name": "stdout",
     "output_type": "stream",
     "text": [
      "The area of the figure\n",
      "20\n",
      "50\n"
     ]
    }
   ],
   "source": [
    "## Polymorphisms with functions and methods\n",
    "\n",
    "class Shape:\n",
    "    def area(self):\n",
    "        return \"The area of the figure\"\n",
    "    \n",
    "## Derived class 1\n",
    "\n",
    "class Rectangle(Shape):\n",
    "    def __init__(self, length:float, width:float):\n",
    "        self.length = length\n",
    "        self.width = width\n",
    "    def area(self) ->float:\n",
    "        return self.length * self.width\n",
    "    \n",
    "class Square(Shape):\n",
    "    def __init__(self,side:float) -> float:\n",
    "        self.side = side\n",
    "    \n",
    "    def area(self) -> float:\n",
    "        return self.side * 4;\n",
    "\n",
    "\n",
    "shape = Shape()\n",
    "print(shape.area())\n",
    "\n",
    "sq = Square(5)\n",
    "print(sq.area())\n",
    "\n",
    "rec = Rectangle(5,10)\n",
    "print(rec.area())\n",
    "\n",
    "\n"
   ]
  },
  {
   "cell_type": "markdown",
   "id": "55e07db9",
   "metadata": {},
   "source": [
    "Polymorphism with Abstract Base Class \n",
    "Abstact Base Classes (ABCs) are used to define common methods for a group of related objects. They can enfore that derived classes implement particular methods, primoting consitency accross different implementations"
   ]
  },
  {
   "cell_type": "code",
   "execution_count": 33,
   "id": "ab8f17eb",
   "metadata": {},
   "outputs": [
    {
     "name": "stdout",
     "output_type": "stream",
     "text": [
      "Car engine Started\n",
      "Bike engine started\n"
     ]
    }
   ],
   "source": [
    "from abc import ABC, abstractmethod\n",
    "\n",
    "class Vehicle(ABC):\n",
    "    @abstractmethod\n",
    "    def start_engine(self):\n",
    "        pass\n",
    "\n",
    "class Car(Vehicle):\n",
    "    def start_engine(self):\n",
    "        return \"Car engine Started\"\n",
    "\n",
    "class Bike(Vehicle):\n",
    "    def start_engine(self):\n",
    "        return \"Bike engine started\"\n",
    "\n",
    "car = Car()\n",
    "print(car.start_engine())\n",
    "bike = Bike()\n",
    "print(bike.start_engine())\n",
    "\n"
   ]
  },
  {
   "cell_type": "markdown",
   "id": "41679c38",
   "metadata": {},
   "source": [
    "Encapsulation and Abstraction\n",
    "\n",
    "Encapsulation is the concept of wrapping data (variables) and methods (functions) together as a single unit. In object-oriented programming, encapsulation restricts direct access to some of an object's components, which is achieved using access modifiers like private, protected, and public. This helps protect the integrity of the data by preventing unintended interference and misuse.\n",
    "\n",
    "Abstraction refers to hiding the complex implementation details and showing only the essential features of an object. It allows programmers to work with high-level interfaces rather than low-level implementation. Abstraction is achieved using abstract classes and methods, which define a blueprint without specifying the exact behavior, forcing derived classes to provide specific implementations.\n",
    "\n",
    "Both encapsulation and abstraction help in building robust, maintainable, and scalable software by promoting modularity and reducing complexity."
   ]
  },
  {
   "cell_type": "code",
   "execution_count": 35,
   "id": "edb071f9",
   "metadata": {},
   "outputs": [
    {
     "data": {
      "text/plain": [
       "['__class__',\n",
       " '__delattr__',\n",
       " '__dict__',\n",
       " '__dir__',\n",
       " '__doc__',\n",
       " '__eq__',\n",
       " '__firstlineno__',\n",
       " '__format__',\n",
       " '__ge__',\n",
       " '__getattribute__',\n",
       " '__getstate__',\n",
       " '__gt__',\n",
       " '__hash__',\n",
       " '__init__',\n",
       " '__init_subclass__',\n",
       " '__le__',\n",
       " '__lt__',\n",
       " '__module__',\n",
       " '__ne__',\n",
       " '__new__',\n",
       " '__reduce__',\n",
       " '__reduce_ex__',\n",
       " '__repr__',\n",
       " '__setattr__',\n",
       " '__sizeof__',\n",
       " '__static_attributes__',\n",
       " '__str__',\n",
       " '__subclasshook__',\n",
       " '__weakref__',\n",
       " 'age',\n",
       " 'gender',\n",
       " 'name']"
      ]
     },
     "execution_count": 35,
     "metadata": {},
     "output_type": "execute_result"
    }
   ],
   "source": [
    "## Encapsulation with Getter and setter methods\n",
    "## Public, private, protected variables or access modifiers\n",
    "class Person:\n",
    "    def __init__(self,name:str,age:int,gender:str):\n",
    "        self.name = name ##public variable\n",
    "        self.age = age ## public varible\n",
    "        self.gender = gender\n",
    "    \n",
    "person = Person(\"Yashwanth\",20,\"Male\")\n",
    "dir(person)\n",
    "\n",
    "        "
   ]
  },
  {
   "cell_type": "code",
   "execution_count": null,
   "id": "78563ccd",
   "metadata": {},
   "outputs": [
    {
     "data": {
      "text/plain": [
       "['_Person__age',\n",
       " '_Person__name',\n",
       " '__class__',\n",
       " '__delattr__',\n",
       " '__dict__',\n",
       " '__dir__',\n",
       " '__doc__',\n",
       " '__eq__',\n",
       " '__firstlineno__',\n",
       " '__format__',\n",
       " '__ge__',\n",
       " '__getattribute__',\n",
       " '__getstate__',\n",
       " '__gt__',\n",
       " '__hash__',\n",
       " '__init__',\n",
       " '__init_subclass__',\n",
       " '__le__',\n",
       " '__lt__',\n",
       " '__module__',\n",
       " '__ne__',\n",
       " '__new__',\n",
       " '__reduce__',\n",
       " '__reduce_ex__',\n",
       " '__repr__',\n",
       " '__setattr__',\n",
       " '__sizeof__',\n",
       " '__static_attributes__',\n",
       " '__str__',\n",
       " '__subclasshook__',\n",
       " '__weakref__',\n",
       " 'gender']"
      ]
     },
     "execution_count": 38,
     "metadata": {},
     "output_type": "execute_result"
    }
   ],
   "source": [
    "\n",
    "class Person:\n",
    "    def __init__(self,name:str,age:int,gender:str):\n",
    "        \"\"\"\n",
    "        You can make a varibale private by adding __ before the variable name.\n",
    "        You cannot access it outside the class.\n",
    "        \"\"\"\n",
    "        self.__name = name ##private vaiable\n",
    "        self.__age = age ## private varible\n",
    "        self.gender = gender #public variable\n",
    "    \n",
    "person = Person(\"Yashwanth\",20,\"Male\")\n",
    "dir(person)\n",
    "# Throws an error\n",
    "# def get_name(person:Person):\n",
    "#     return person.__name\n",
    "\n",
    "# print(get_name(person))\n",
    "\n",
    "## To access private or protected variables, we will use getter and setter\n",
    "\n"
   ]
  },
  {
   "cell_type": "code",
   "execution_count": 39,
   "id": "c96c6554",
   "metadata": {},
   "outputs": [
    {
     "name": "stdout",
     "output_type": "stream",
     "text": [
      "Yash\n"
     ]
    }
   ],
   "source": [
    "\n",
    "class Person:\n",
    "    def __init__(self,name:str,age:int,gender:str):\n",
    "        \"\"\"\n",
    "        You can make a varibale protected by adding _ before the variable name. So that the variable can be accessed only \n",
    "        by the derived class, You cant access it outside the class\n",
    "        \"\"\"\n",
    "        self._name = name ##protected vaiable\n",
    "        self.__age = age ## private varible\n",
    "        self.gender = gender #public variable\n",
    "    \n",
    "class Employee(Person):\n",
    "    def __init__(self, name:str, age:int, gender:str):\n",
    "        super().__init__(name, age, gender)\n",
    "\n",
    "emp = Employee(\"Yash\",23,\"Male\")\n",
    "print(emp._name)"
   ]
  },
  {
   "cell_type": "code",
   "execution_count": 46,
   "id": "e6a5301d",
   "metadata": {},
   "outputs": [
    {
     "name": "stdout",
     "output_type": "stream",
     "text": [
      "James\n",
      "James Bond\n"
     ]
    }
   ],
   "source": [
    "## Encapsulation with getter and setter\n",
    "class Person:\n",
    "    def __init__(self,name:str,age:int):\n",
    "        \"\"\"\n",
    "        You can make a varibale protected by adding _ before the variable name. So that the variable can be accessed only \n",
    "        by the derived class, You cant access it outside the class\n",
    "        \"\"\"\n",
    "        self.__name = name ## private  vaiable\n",
    "        self.__age = age ## private varible\n",
    "    def get_name(self):\n",
    "        return self.__name\n",
    "    \n",
    "    def set_name(self,name:str):\n",
    "        self.__name = name\n",
    "    \n",
    "    ### You can also use property varible for getter and setter methods\n",
    "\n",
    "person1 = Person(\"James\",45)\n",
    "print(person1.get_name())\n",
    "person1.set_name(\"James Bond\")\n",
    "print(person1.get_name())"
   ]
  },
  {
   "cell_type": "code",
   "execution_count": null,
   "id": "57a11233",
   "metadata": {},
   "outputs": [
    {
     "name": "stdout",
     "output_type": "stream",
     "text": [
      "--- 1. Creating a valid person ---\n",
      "Success: Created Person(name='Alice', age=30)\n",
      "\n",
      "========================================\n",
      "\n",
      "--- 2. Attempting to create a person with an invalid name ---\n",
      "Caught expected error: Name cannot be empty or just whitespace.\n",
      "\n",
      "--- 3. Attempting to create a person with an invalid age ---\n",
      "Caught expected error: Age must be between 0 and 130.\n",
      "\n",
      "========================================\n",
      "\n",
      "--- 4. Attempting to update age to an invalid value ---\n",
      "Original person: Person(name='Alice', age=30)\n",
      "Caught expected error: Age must be between 0 and 130.\n",
      "Person's age remains unchanged: 30\n"
     ]
    }
   ],
   "source": [
    "### A complex approach using validation. Also using the @property tag\n",
    "\n",
    "class Person:\n",
    "    \"\"\"\n",
    "    A class to represent a person with private attributes for name and age.\n",
    "    \n",
    "    This class demonstrates robust encapsulation by:\n",
    "    1.  Keeping the core data ( __name,  __age ) private using a double underscore.\n",
    "    2.  Providing controlled access through getter and setter properties.\n",
    "    3.  Implementing validation logic within the setters to ensure data integrity.\n",
    "    \"\"\"\n",
    "\n",
    "    def __init__(self, name: str, age: int):\n",
    "        # ====================================================================================\n",
    "        # INITIALIZATION\n",
    "        # ====================================================================================\n",
    "        # When creating a new Person object, we don't assign directly to the private\n",
    "        # variables like  self.__name = name .\n",
    "        # Instead, we assign to  self.name  and  self.age . This is crucial because\n",
    "        # it automatically triggers the setter methods (@name.setter, @age.setter).\n",
    "        # By doing this, we guarantee that our validation logic runs immediately\n",
    "        # upon object creation, preventing invalid data from the very beginning.\n",
    "        # ====================================================================================\n",
    "        self.name = name\n",
    "        self.age = age\n",
    "\n",
    "    # --- NAME PROPERTY ---\n",
    "\n",
    "    @property\n",
    "    def name(self) -> str:\n",
    "        # ====================================================================================\n",
    "        # NAME GETTER\n",
    "        # ====================================================================================\n",
    "        # This is the 'getter' method for the name. It's decorated with @property,\n",
    "        # which allows us to access it like a simple attribute (e.g.,  person.name )\n",
    "        # instead of calling a method (e.g.,  person.get_name() ). It simply returns\n",
    "        # the value of the private __name variable.\n",
    "        # ====================================================================================\n",
    "        return self.__name\n",
    "\n",
    "    @name.setter\n",
    "    def name(self, name: str):\n",
    "        # ====================================================================================\n",
    "        # NAME SETTER\n",
    "        # ====================================================================================\n",
    "        # This is the 'setter' method, which is called whenever we try to assign a\n",
    "        # value to the 'name' property (e.g.,  person.name = \"New Name\" ).\n",
    "        # This is the perfect place to put our validation logic to protect the\n",
    "        # integrity of the __name attribute.\n",
    "        # ====================================================================================\n",
    "\n",
    "        # 1. Type Validation: Check if the provided value is a string.\n",
    "        if not isinstance(name, str):\n",
    "            # If it's not a string, we raise a TypeError, which is the standard\n",
    "            # exception for operations performed on an object of an inappropriate type.\n",
    "            raise TypeError(\"Name must be a string.\")\n",
    "\n",
    "        # 2. Value Validation: Check if the string is empty or just contains whitespace.\n",
    "        #    The  strip()  method removes leading/trailing whitespace. If the result is\n",
    "        #    an empty string, it's considered invalid.\n",
    "        if not name.strip():\n",
    "            # If the name is empty, we raise a ValueError, which is appropriate\n",
    "            # when the type is correct but the value is unacceptable.\n",
    "            raise ValueError(\"Name cannot be empty or just whitespace.\")\n",
    "\n",
    "        # 3. Assignment: If all validation checks pass, we assign the value.\n",
    "        #    We also use strip() here to store a clean version of the name.\n",
    "        self.__name = name.strip()\n",
    "\n",
    "    # --- AGE PROPERTY ---\n",
    "\n",
    "    @property\n",
    "    def age(self) -> int:\n",
    "        # ====================================================================================\n",
    "        # AGE GETTER\n",
    "        # ====================================================================================\n",
    "        # This is the 'getter' for age. It allows access via  person.age  and\n",
    "        # returns the private __age variable.\n",
    "        # ====================================================================================\n",
    "        return self.__age\n",
    "\n",
    "    @age.setter\n",
    "    def age(self, age: int):\n",
    "        # ====================================================================================\n",
    "        # AGE SETTER\n",
    "        # ====================================================================================\n",
    "        # This 'setter' method is called when we assign a value to  person.age .\n",
    "        # It contains validation logic specific to the age attribute.\n",
    "        # ====================================================================================\n",
    "\n",
    "        # 1. Type Validation: Check if the provided value is an integer.\n",
    "        if not isinstance(age, int):\n",
    "            raise TypeError(\"Age must be an integer.\")\n",
    "\n",
    "        # 2. Value Validation: Check if the age is within a reasonable range.\n",
    "        #    Here, we assume a person's age must be between 0 and 130.\n",
    "        if not (0 <= age <= 130):\n",
    "            raise ValueError(\"Age must be between 0 and 130.\")\n",
    "            \n",
    "        # 3. Assignment: If validation passes, assign the value to the private variable.\n",
    "        self.__age = age\n",
    "        \n",
    "    def __repr__(self) -> str:\n",
    "        # A representation method to make printing the object more informative.\n",
    "        return f\"Person(name='{self.name}', age={self.age})\"\n",
    "\n",
    "\n",
    "# --- DEMONSTRATION ---\n",
    "\n",
    "# 1. Successful Creation\n",
    "print(\"--- 1. Creating a valid person ---\")\n",
    "try:\n",
    "    person1 = Person(\"  Alice  \", 30)\n",
    "    print(f\"Success: Created {person1}\")\n",
    "except (ValueError, TypeError) as e:\n",
    "    print(f\"Error: {e}\")\n",
    "\n",
    "print(\"\\n\" + \"=\"*40 + \"\\n\")\n",
    "\n",
    "# 2. Demonstrating Failed Creation (Invalid Data in __init__)\n",
    "print(\"--- 2. Attempting to create a person with an invalid name ---\")\n",
    "try:\n",
    "    invalid_person = Person(\"\", 25) # Empty name\n",
    "    print(f\"Success: Created {invalid_person}\")\n",
    "except (ValueError, TypeError) as e:\n",
    "    print(f\"Caught expected error: {e}\")\n",
    "    \n",
    "print(\"\\n--- 3. Attempting to create a person with an invalid age ---\")\n",
    "try:\n",
    "    invalid_person = Person(\"Bob\", -5) # Negative age\n",
    "    print(f\"Success: Created {invalid_person}\")\n",
    "except (ValueError, TypeError) as e:\n",
    "    print(f\"Caught expected error: {e}\")\n",
    "\n",
    "print(\"\\n\" + \"=\"*40 + \"\\n\")\n",
    "\n",
    "# 4. Demonstrating Failed Update (Invalid Data via Setter)\n",
    "print(\"--- 4. Attempting to update age to an invalid value ---\")\n",
    "print(f\"Original person: {person1}\")\n",
    "try:\n",
    "    person1.age = 200 # Unrealistic age\n",
    "    print(f\"Updated person: {person1}\")\n",
    "except (ValueError, TypeError) as e:\n",
    "    print(f\"Caught expected error: {e}\")\n",
    "    print(f\"Person's age remains unchanged: {person1.age}\")"
   ]
  },
  {
   "cell_type": "markdown",
   "id": "1756f994",
   "metadata": {},
   "source": [
    "Abstraction"
   ]
  },
  {
   "cell_type": "code",
   "execution_count": 49,
   "id": "3197f8b0",
   "metadata": {},
   "outputs": [
    {
     "name": "stdout",
     "output_type": "stream",
     "text": [
      "Car engine started\n",
      "The vehicle is used for driving\n"
     ]
    }
   ],
   "source": [
    "from abc import ABC, abstractmethod\n",
    "\n",
    "class Vehicle(ABC):\n",
    "    def drive(self):\n",
    "        print(\"The vehicle is used for driving\")\n",
    "\n",
    "\n",
    "    \"\"\"\n",
    "    # Abstract methods are methods that are declared in an abstract base class but do not contain any implementation.\n",
    "    # They act as a blueprint for derived classes, enforcing that subclasses must provide their own implementation for these methods.\n",
    "    # In Python, abstract methods are defined using the @abstractmethod decorator from the abc module.\n",
    "    # Attempting to instantiate a class with unimplemented abstract methods will result in a TypeError.\n",
    "    \"\"\"\n",
    "    @abstractmethod\n",
    "    def start_engine(self):\n",
    "        pass \n",
    "\n",
    "class Car(Vehicle):\n",
    "    def start_engine(self):\n",
    "        print(\"Car engine started\")\n",
    "\n",
    "def operate_vehicle(vehicle:Vehicle):\n",
    "    vehicle.start_engine()\n",
    "    vehicle.drive()\n",
    "\n",
    "car = Car()\n",
    "\n",
    "operate_vehicle(car)"
   ]
  },
  {
   "cell_type": "markdown",
   "id": "1402ea67",
   "metadata": {},
   "source": [
    "Magic Methods (Dunder Methods) in Python\n",
    "Magic methods, also known as \"dunder\" (double underscore) methods, are special methods in Python that start and end with double underscores (e.g.,  __init__ ,  __str__ ,  __add__ ). These methods enable the customization of built-in behavior for user-defined classes, allowing objects to interact with Python's syntax and operators.\n",
    "\n",
    "### Common Magic Methods\n",
    "\n",
    "- __init__(self, ...): Constructor, called when an object is created.\n",
    "- __str__(self): Defines the string representation of an object (used by  print() ).\n",
    "- __repr__(self): Defines the “official” string representation of an object.\n",
    "- __len__(self): Returns the length of the object (used by  len() ).\n",
    "- __getitem__(self, key): Enables indexing and slicing.\n",
    "- __setitem__(self, key, value): Enables item assignment.\n",
    "- __delitem__(self, key): Enables item deletion.\n",
    "- __add__(self, other): Defines behavior for the  +  operator.\n",
    "- __eq__(self, other): Defines behavior for the equality operator  == .\n",
    "- __call__(self, ...): Allows an object to be called as a function.\n",
    "\n",
    "\n",
    "### Why Use Magic Methods?\n",
    "\n",
    "- Integrate custom classes with Python’s built-in functions and operators.\n",
    "- Make objects behave like native types.\n",
    "- Enable readable, idiomatic code.\n",
    "\n",
    "Magic methods are powerful tools for building intuitive and flexible classes in Python."
   ]
  },
  {
   "cell_type": "code",
   "execution_count": null,
   "id": "925f5435",
   "metadata": {},
   "outputs": [
    {
     "name": "stdout",
     "output_type": "stream",
     "text": [
      "Person obj with name Yashwanth\n",
      "Person obj with name Yashwanth\n"
     ]
    }
   ],
   "source": [
    "class Person:\n",
    "    def __init__(self,name:str):\n",
    "        self.name = name\n",
    "    def __str__(self):\n",
    "        return f\"Person obj with name {self.name}\"\n",
    "\n",
    "per = Person(\"Yashwanth\")\n",
    "#print(per) # <__main__.Person object at 0x0000017B6D00E510>\n",
    "\n",
    "## Now if I i user __str__ and print it. I can override the default way the obj is printed\n",
    "\n",
    "print(per) # Person obj with name Yashwanth"
   ]
  },
  {
   "cell_type": "markdown",
   "id": "d4ee3d0c",
   "metadata": {},
   "source": [
    "Operator overloading allows user-defined classes to redefine the behavior of Python's built-in operators (such as +, -, *, ==) by implementing special methods like `__add__`, `__sub__`, and `__eq__`. This enables objects to interact naturally with operators, making code more intuitive and expressive.\n"
   ]
  },
  {
   "cell_type": "code",
   "execution_count": null,
   "id": "dbaea93e",
   "metadata": {},
   "outputs": [
    {
     "name": "stdout",
     "output_type": "stream",
     "text": [
      "Vector(7, 9)\n"
     ]
    }
   ],
   "source": [
    "## Mathematical operation for vectors. Which is not available, but we are doing. \n",
    "class Vector:\n",
    "    def __init__(self,x:float,y:float):\n",
    "        self.x = x\n",
    "        self.y = y\n",
    "    \n",
    "    def __add__(self,other):\n",
    "        return Vector(self.x+other.x, self.y+other.y)\n",
    "    def __sub__(self,other):\n",
    "        return Vector(self.x-other.x, self.y-other.y)\n",
    "    def __mul__(self,other):\n",
    "        return Vector(self.x*other.x, self.y*other.y)\n",
    "    def __eq__(self,other):\n",
    "        return self.x == other.x and self.y == other.y\n",
    "    \n",
    "    def __repr__(self):\n",
    "        return f\"Vector({self.x}, {self.y})\"\n",
    "    \n",
    "\n",
    "v1 = Vector(2,3)\n",
    "v2 = Vector(5,6)\n",
    "\n",
    "print(v1+v2) # this modifies the __add__ addition of two vectors. You basically overload them\n",
    "\n",
    "    "
   ]
  },
  {
   "cell_type": "code",
   "execution_count": 60,
   "id": "b748afdc",
   "metadata": {},
   "outputs": [
    {
     "name": "stdout",
     "output_type": "stream",
     "text": [
      "Caught custom exception: Date of birth cannot be in the future.\n"
     ]
    }
   ],
   "source": [
    "# Define a base custom exception\n",
    "class Error(Exception):\n",
    "    \"\"\"Base class for custom exceptions\"\"\"\n",
    "    pass\n",
    "\n",
    "# Define a specific custom exception\n",
    "class dobException(Error):\n",
    "    \"\"\"Raised when the date of birth is invalid\"\"\"\n",
    "    pass\n",
    "\n",
    "# Example usage\n",
    "def validate_dob(dob):\n",
    "    if dob > 2025:\n",
    "        raise dobException(\"Date of birth cannot be in the future.\")\n",
    "\n",
    "try:\n",
    "    validate_dob(2026)\n",
    "except dobException as e:\n",
    "    print(f\"Caught custom exception: {e}\")\n"
   ]
  }
 ],
 "metadata": {
  "kernelspec": {
   "display_name": "oops",
   "language": "python",
   "name": "python3"
  },
  "language_info": {
   "codemirror_mode": {
    "name": "ipython",
    "version": 3
   },
   "file_extension": ".py",
   "mimetype": "text/x-python",
   "name": "python",
   "nbconvert_exporter": "python",
   "pygments_lexer": "ipython3",
   "version": "3.13.5"
  }
 },
 "nbformat": 4,
 "nbformat_minor": 5
}
