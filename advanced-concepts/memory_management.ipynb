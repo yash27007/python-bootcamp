{
  "nbformat": 4,
  "nbformat_minor": 0,
  "metadata": {
    "colab": {
      "provenance": []
    },
    "kernelspec": {
      "name": "python3",
      "display_name": "Python 3"
    },
    "language_info": {
      "name": "python"
    }
  },
  "cells": [
    {
      "cell_type": "markdown",
      "metadata": {
        "id": "4864ac8f"
      },
      "source": [
        "# Python Memory Management\n",
        "\n",
        "Python's memory management is a key aspect of its design, handling the allocation and deallocation of memory for objects. Here's a brief overview:\n",
        "\n",
        "1.  **Reference Counting:** The primary mechanism is reference counting. Each object has a count of how many references point to it. When the count drops to zero, the object is deallocated, and its memory is reclaimed.\n",
        "2.  **Garbage Collection:** For objects with circular references (where objects reference each other but are no longer accessible from the main program), Python uses a cyclic garbage collector. This collector periodically identifies and collects these unreferenced cycles.\n",
        "3.  **Memory Pools:** Python uses memory pools for smaller objects to reduce the overhead of frequent memory allocation and deallocation. This speeds up memory management for commonly used object types.\n",
        "\n",
        "In essence, Python automates memory management, allowing developers to focus on writing code without explicit memory allocation and deallocation commands."
      ]
    },
    {
      "cell_type": "code",
      "source": [
        "import sys\n",
        "a=[]\n",
        "print(sys.getrefcount(a))\n",
        "# The output `2` for `sys.getrefcount(a)` means there are currently two references to the list object `a`.\n",
        "# 1. The variable `a`: This is the most obvious reference. The name `a` in your code points to the list object `[]`.\n",
        "# 2. The argument to `sys.getrefcount()`: When you pass `a` to the `sys.getrefcount()` function, the function itself creates a temporary reference to the object to check its reference count. This temporary reference exists just for the duration of the function call.\n",
        "# So, at the moment `sys.getrefcount(a)` is executed, there's the original reference from the variable `a` and the temporary reference created by the function call itself, resulting in a count of 2."
      ],
      "metadata": {
        "colab": {
          "base_uri": "https://localhost:8080/"
        },
        "id": "z-nB5dy-Avrc",
        "outputId": "2e1ed279-5227-45a6-dd3c-bb913b0db7d3"
      },
      "execution_count": null,
      "outputs": [
        {
          "output_type": "stream",
          "name": "stdout",
          "text": [
            "2\n"
          ]
        }
      ]
    },
    {
      "cell_type": "code",
      "source": [
        "### Garbage Collection\n",
        "\n",
        "import gc\n",
        "## enable garbage collectoin\n",
        "gc.enable()"
      ],
      "metadata": {
        "id": "KIXqYNARBIz1"
      },
      "execution_count": null,
      "outputs": []
    },
    {
      "cell_type": "code",
      "source": [
        "gc.disable()"
      ],
      "metadata": {
        "id": "Gz8SMnnXBq6N"
      },
      "execution_count": null,
      "outputs": []
    },
    {
      "cell_type": "code",
      "source": [
        "gc.collect()"
      ],
      "metadata": {
        "colab": {
          "base_uri": "https://localhost:8080/"
        },
        "id": "Kzx-07URBtDt",
        "outputId": "fbb542d2-517e-4c91-bf13-b7e96aef6888"
      },
      "execution_count": null,
      "outputs": [
        {
          "output_type": "execute_result",
          "data": {
            "text/plain": [
              "1260"
            ]
          },
          "metadata": {},
          "execution_count": 4
        }
      ]
    },
    {
      "cell_type": "code",
      "source": [
        "print(gc.get_stats())"
      ],
      "metadata": {
        "colab": {
          "base_uri": "https://localhost:8080/"
        },
        "id": "iLAeHWVGBvq8",
        "outputId": "6e82050d-439f-4d57-ee3d-a561b33e3e22"
      },
      "execution_count": null,
      "outputs": [
        {
          "output_type": "stream",
          "name": "stdout",
          "text": [
            "[{'collections': 246, 'collected': 2556, 'uncollectable': 0}, {'collections': 22, 'collected': 725, 'uncollectable': 0}, {'collections': 3, 'collected': 1310, 'uncollectable': 0}]\n"
          ]
        }
      ]
    },
    {
      "cell_type": "code",
      "source": [
        "print(gc.garbage)"
      ],
      "metadata": {
        "colab": {
          "base_uri": "https://localhost:8080/"
        },
        "id": "TFk9DNZ5Bvpl",
        "outputId": "19005dfe-e86b-4561-d103-6d582da21795"
      },
      "execution_count": null,
      "outputs": [
        {
          "output_type": "stream",
          "name": "stdout",
          "text": [
            "[]\n"
          ]
        }
      ]
    },
    {
      "cell_type": "code",
      "source": [
        "import gc\n",
        "\n",
        "class MyObject:\n",
        "  def __init__(self,name):\n",
        "    self.name = name\n",
        "    print(f\"Object {self.name} created\")\n",
        "  def __del__(self):\n",
        "    print(f\"Object {self.name} destroyed\")\n",
        "\n",
        "obj1 = MyObject(\"obj1\")\n",
        "obj2 = MyObject(\"obj2\")\n",
        "#Circular reference\n",
        "obj1.ref = obj2\n",
        "obj2.ref = obj1\n",
        "del obj1\n",
        "del obj2\n",
        "gc.collect()"
      ],
      "metadata": {
        "colab": {
          "base_uri": "https://localhost:8080/"
        },
        "id": "OVL5wV49CEk1",
        "outputId": "9930af3c-4a38-4ef1-df12-69b4e1f242ce"
      },
      "execution_count": null,
      "outputs": [
        {
          "output_type": "stream",
          "name": "stdout",
          "text": [
            "Object obj1 created\n",
            "Object obj2 created\n",
            "Object obj1 destroyed\n",
            "Object obj2 destroyed\n"
          ]
        },
        {
          "output_type": "execute_result",
          "data": {
            "text/plain": [
              "7586"
            ]
          },
          "metadata": {},
          "execution_count": 9
        }
      ]
    },
    {
      "cell_type": "code",
      "source": [
        "## Generators for memeory efficieney\n",
        "### Generators only produce only one item at a time. so un necessary memory is not heald\n",
        "\n",
        "def generate_numbers(n):\n",
        "  for i in range(n):\n",
        "    yield i\n",
        "\n",
        "for num in generate_numbers(5):\n",
        "  print(num)\n",
        "  if num > 10:\n",
        "    break\n"
      ],
      "metadata": {
        "colab": {
          "base_uri": "https://localhost:8080/"
        },
        "id": "lUQXYK-ZC2IF",
        "outputId": "3993fd6b-35c1-4828-ce32-150e130e866e"
      },
      "execution_count": null,
      "outputs": [
        {
          "output_type": "stream",
          "name": "stdout",
          "text": [
            "0\n",
            "1\n",
            "2\n",
            "3\n",
            "4\n"
          ]
        }
      ]
    },
    {
      "cell_type": "code",
      "source": [
        "### Profilling memory usage with trace malloc\n",
        "\n",
        "import tracemalloc\n",
        "\n",
        "def create_list():\n",
        "  return [i for i in range(100000)]\n",
        "\n",
        "def main():\n",
        "  tracemalloc.start()\n",
        "\n",
        "  create_list()\n",
        "\n",
        "  snapshot = tracemalloc.take_snapshot()\n",
        "  top_stats = snapshot.statistics('lineno')\n",
        "\n",
        "  print(\"[ Top 10 ]\")\n",
        "  for stat in top_stats[:10]:\n",
        "    print(stat)\n",
        "\n",
        "main()"
      ],
      "metadata": {
        "colab": {
          "base_uri": "https://localhost:8080/"
        },
        "id": "Wv9WHqK4C2GF",
        "outputId": "a7f66833-bfc9-42ee-fc9c-4f78a36bc88e"
      },
      "execution_count": null,
      "outputs": [
        {
          "output_type": "stream",
          "name": "stdout",
          "text": [
            "[ Top 10 ]\n",
            "<frozen abc>:123: size=65.9 KiB, count=947, average=71 B\n",
            "/usr/lib/python3.12/linecache.py:142: size=40.7 KiB, count=465, average=90 B\n",
            "/usr/local/lib/python3.12/dist-packages/IPython/core/compilerop.py:101: size=15.1 KiB, count=162, average=96 B\n",
            "/usr/local/lib/python3.12/dist-packages/IPython/core/compilerop.py:188: size=3264 B, count=1, average=3264 B\n",
            "/usr/local/lib/python3.12/dist-packages/debugpy/_vendored/pydevd/_pydevd_bundle/pydevd_suspended_frames.py:304: size=3072 B, count=48, average=64 B\n",
            "/usr/lib/python3.12/codeop.py:126: size=3048 B, count=43, average=71 B\n",
            "/usr/local/lib/python3.12/dist-packages/IPython/core/ultratb.py:1024: size=2975 B, count=4, average=744 B\n",
            "/usr/lib/python3.12/json/decoder.py:354: size=2790 B, count=43, average=65 B\n",
            "/usr/local/lib/python3.12/dist-packages/zmq/sugar/attrsettr.py:45: size=2209 B, count=47, average=47 B\n",
            "/usr/local/lib/python3.12/dist-packages/ipykernel/iostream.py:230: size=1240 B, count=12, average=103 B\n"
          ]
        }
      ]
    },
    {
      "cell_type": "code",
      "source": [],
      "metadata": {
        "id": "HEwcMENAEEPN"
      },
      "execution_count": null,
      "outputs": []
    }
  ]
}