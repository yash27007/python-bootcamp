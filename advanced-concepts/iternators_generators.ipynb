{
  "cells": [
    {
      "cell_type": "markdown",
      "metadata": {
        "id": "M0q4Nv7ZSJV4"
      },
      "source": [
        "### Advanced Python Concepts\n",
        "\n",
        "Iterators\n",
        "Iterators are advanced Python concepts that allow for efficient looping and memory management. Iterators provide a way to access elements of a collectoin sequentially without exposing the underlying structure..\n",
        "\n",
        "\n",
        "Iterators process elements one at a time, on demand, rather than loading the entire collection into memory. This is crucial when dealing with large datasets or infinite sequences, preventing memory exhaustion.\n"
      ]
    },
    {
      "cell_type": "code",
      "execution_count": null,
      "metadata": {
        "colab": {
          "base_uri": "https://localhost:8080/"
        },
        "id": "uCcM6uy5X2V8",
        "outputId": "7d095ed9-39dc-4ecf-c1e1-98c889cab576"
      },
      "outputs": [
        {
          "name": "stdout",
          "output_type": "stream",
          "text": [
            "1\n",
            "2\n",
            "3\n",
            "4\n"
          ]
        }
      ],
      "source": [
        "my_list = [1,2,3,4]\n",
        "\n",
        "for i in my_list:\n",
        "  print(i)"
      ]
    },
    {
      "cell_type": "code",
      "execution_count": null,
      "metadata": {
        "colab": {
          "base_uri": "https://localhost:8080/"
        },
        "id": "g6NUzNFaRucC",
        "outputId": "bf4996f3-1701-4946-e63f-02a1bea3a903"
      },
      "outputs": [
        {
          "name": "stdout",
          "output_type": "stream",
          "text": [
            "[1, 2, 3, 4]\n"
          ]
        }
      ],
      "source": [
        "type(my_list)\n",
        "print(my_list)"
      ]
    },
    {
      "cell_type": "code",
      "execution_count": null,
      "metadata": {
        "colab": {
          "base_uri": "https://localhost:8080/"
        },
        "id": "OuTOvh3fYaw7",
        "outputId": "9c470a38-acf5-4a69-aa63-5be097ae5de3"
      },
      "outputs": [
        {
          "name": "stdout",
          "output_type": "stream",
          "text": [
            "<class 'list_iterator'>\n"
          ]
        }
      ],
      "source": [
        "iterator = iter(my_list)\n",
        "print(type(iterator))"
      ]
    },
    {
      "cell_type": "code",
      "execution_count": null,
      "metadata": {
        "colab": {
          "base_uri": "https://localhost:8080/"
        },
        "id": "O-M_IiIwYavj",
        "outputId": "c83e3a75-6b48-4fa1-ae3a-b7290310afc3"
      },
      "outputs": [
        {
          "data": {
            "text/plain": [
              "<list_iterator at 0x7bc2a7aa5390>"
            ]
          },
          "execution_count": 12,
          "metadata": {},
          "output_type": "execute_result"
        }
      ],
      "source": [
        "iterator"
      ]
    },
    {
      "cell_type": "code",
      "execution_count": null,
      "metadata": {
        "colab": {
          "base_uri": "https://localhost:8080/"
        },
        "id": "vo_Ghd15YaYT",
        "outputId": "fffdba22-3bde-4c3d-808d-4584e2e37db6"
      },
      "outputs": [
        {
          "data": {
            "text/plain": [
              "1"
            ]
          },
          "execution_count": 13,
          "metadata": {},
          "output_type": "execute_result"
        }
      ],
      "source": [
        "## In order to iterate through all the elements we use next\n",
        "next(iterator)"
      ]
    },
    {
      "cell_type": "code",
      "execution_count": null,
      "metadata": {
        "colab": {
          "base_uri": "https://localhost:8080/"
        },
        "id": "KTx60TAoY4a5",
        "outputId": "b842a1da-e5c4-441f-be4f-d1df704c8199"
      },
      "outputs": [
        {
          "data": {
            "text/plain": [
              "2"
            ]
          },
          "execution_count": 14,
          "metadata": {},
          "output_type": "execute_result"
        }
      ],
      "source": [
        "next(iterator)"
      ]
    },
    {
      "cell_type": "code",
      "execution_count": null,
      "metadata": {
        "colab": {
          "base_uri": "https://localhost:8080/"
        },
        "id": "aXEEsSgiY4aA",
        "outputId": "cea3813a-0fd6-47b5-dae1-15200ee1867b"
      },
      "outputs": [
        {
          "data": {
            "text/plain": [
              "3"
            ]
          },
          "execution_count": 15,
          "metadata": {},
          "output_type": "execute_result"
        }
      ],
      "source": [
        "next(iterator)"
      ]
    },
    {
      "cell_type": "code",
      "execution_count": null,
      "metadata": {
        "colab": {
          "base_uri": "https://localhost:8080/"
        },
        "id": "FNQo7SngY4Uw",
        "outputId": "b873ef93-fbc7-44b8-dced-827961780d63"
      },
      "outputs": [
        {
          "data": {
            "text/plain": [
              "4"
            ]
          },
          "execution_count": 16,
          "metadata": {},
          "output_type": "execute_result"
        }
      ],
      "source": [
        "next(iterator)"
      ]
    },
    {
      "cell_type": "code",
      "execution_count": null,
      "metadata": {
        "colab": {
          "base_uri": "https://localhost:8080/"
        },
        "id": "B55v14s8Y4NI",
        "outputId": "8076e04e-3277-44ff-a39d-d7840600c575"
      },
      "outputs": [
        {
          "name": "stdout",
          "output_type": "stream",
          "text": [
            "You have reached the end of the list\n"
          ]
        }
      ],
      "source": [
        "try:\n",
        "  next(iterator)\n",
        "except StopIteration:\n",
        "  print(\"You have reached the end of the list\")\n"
      ]
    },
    {
      "cell_type": "markdown",
      "metadata": {
        "id": "Ik_ArnLGcPRM"
      },
      "source": [
        "###Generators\n",
        "Generators are a simpler way to create iterators. They use the yield keyword to produce a seris of values lazily, which means they generate values on the fly and do not store them in the memory.\n",
        "\n",
        "Unlike regular functions that compute and return a value, generators \"yield\" values one at a time, pausing execution and saving their state. This allows them to resume from where they left off when the next value is requested.\n"
      ]
    },
    {
      "cell_type": "code",
      "execution_count": null,
      "metadata": {
        "id": "EONJ7O9BcO7E"
      },
      "outputs": [],
      "source": [
        "def square(n):\n",
        "  for i in range(3):\n",
        "    yield i**2"
      ]
    },
    {
      "cell_type": "code",
      "execution_count": null,
      "metadata": {
        "colab": {
          "base_uri": "https://localhost:8080/"
        },
        "id": "kr9sp0LQcO5s",
        "outputId": "d557d45f-b3c8-4e4f-9ada-d71bbd337e9e"
      },
      "outputs": [
        {
          "data": {
            "text/plain": [
              "<generator object square at 0x7bc2a4274040>"
            ]
          },
          "execution_count": 24,
          "metadata": {},
          "output_type": "execute_result"
        }
      ],
      "source": [
        "square(3)"
      ]
    },
    {
      "cell_type": "code",
      "execution_count": null,
      "metadata": {
        "colab": {
          "base_uri": "https://localhost:8080/"
        },
        "id": "gNJqQf70d830",
        "outputId": "a86b5480-2cc7-4381-a910-0bd5887425e6"
      },
      "outputs": [
        {
          "name": "stdout",
          "output_type": "stream",
          "text": [
            "0\n",
            "1\n",
            "4\n"
          ]
        }
      ],
      "source": [
        "for i in square(3):\n",
        "  print(i)"
      ]
    },
    {
      "cell_type": "code",
      "execution_count": null,
      "metadata": {
        "id": "9Aa6j8cSegJr"
      },
      "outputs": [],
      "source": [
        "def my_generator():\n",
        "  yield 1\n",
        "  yield 2\n",
        "  yield 3"
      ]
    },
    {
      "cell_type": "code",
      "execution_count": null,
      "metadata": {
        "colab": {
          "base_uri": "https://localhost:8080/"
        },
        "id": "KtQIB9NWfN1F",
        "outputId": "67a27d8a-477d-4f3a-eb5b-8f6e588062ec"
      },
      "outputs": [
        {
          "data": {
            "text/plain": [
              "<generator object my_generator at 0x7bc2a43d9850>"
            ]
          },
          "execution_count": 42,
          "metadata": {},
          "output_type": "execute_result"
        }
      ],
      "source": [
        "gen = my_generator()\n",
        "gen"
      ]
    },
    {
      "cell_type": "code",
      "execution_count": null,
      "metadata": {
        "colab": {
          "base_uri": "https://localhost:8080/"
        },
        "id": "UKSMwRtHfYEE",
        "outputId": "3ae2c4e0-a4b6-4225-f275-4553e50120c6"
      },
      "outputs": [
        {
          "data": {
            "text/plain": [
              "1"
            ]
          },
          "execution_count": 43,
          "metadata": {},
          "output_type": "execute_result"
        }
      ],
      "source": [
        "next(gen)"
      ]
    },
    {
      "cell_type": "code",
      "execution_count": null,
      "metadata": {
        "colab": {
          "base_uri": "https://localhost:8080/"
        },
        "id": "zRBNr2HvfN0L",
        "outputId": "b7420cec-ed2c-4fe1-c2b1-9bd64445f812"
      },
      "outputs": [
        {
          "name": "stdout",
          "output_type": "stream",
          "text": [
            "2\n",
            "3\n"
          ]
        }
      ],
      "source": [
        "for val in gen:\n",
        "  print(val)"
      ]
    },
    {
      "cell_type": "markdown",
      "metadata": {
        "id": "A3_jvZMCfs6z"
      },
      "source": [
        "### Practical exampl:\n",
        "Reading Large Files. It alllows you to process one lke at a time without loadingg the entire file into the memory"
      ]
    },
    {
      "cell_type": "code",
      "execution_count": null,
      "metadata": {
        "id": "zmtDSWh2g58U"
      },
      "outputs": [],
      "source": [
        "with open('document.txt',\"w\") as file:\n",
        "  file.write(\"\"\"In Python, a generator is a special type of function or expression that creates an iterator. Unlike regular functions that compute and return a value, generators \"yield\" values one at a time, pausing execution and saving their state. This allows them to resume from where they left off when the next value is requested.\n",
        "Key characteristics of Python generators:\n",
        "Lazy Evaluation:\n",
        "Generators compute values on demand, meaning they only generate a value when it is explicitly requested (e.g., during iteration). This makes them highly memory-efficient, especially when dealing with large datasets or infinite sequences, as they do not store all values in memory simultaneously.\n",
        "yield Keyword:\n",
        "The defining feature of a generator function is the use of the yield keyword instead of return. When yield is encountered, the function pauses, returns the yielded value, and retains its internal state. The next time the generator is called, it resumes execution from the point of the last yield.\n",
        "Iterator Protocol:\n",
        "Generators implicitly implement the iterator protocol, meaning they can be directly used in for loops and other contexts that expect iterators.\n",
        "Generator Expressions:\n",
        "Similar to list comprehensions, generator expressions provide a concise way to create generator objects using parentheses instead of square brackets, e.g., (expression for item in iterable).\n",
        "\"\"\")"
      ]
    },
    {
      "cell_type": "code",
      "execution_count": null,
      "metadata": {
        "id": "vNGngxo0gACm"
      },
      "outputs": [],
      "source": [
        "def read_large_file(file_w):\n",
        "  with open (file_path,\"r\") as file:\n",
        "    for line in file:\n",
        "      yield line"
      ]
    },
    {
      "cell_type": "code",
      "execution_count": null,
      "metadata": {
        "id": "nf1BOSXfgxlE"
      },
      "outputs": [],
      "source": [
        "file_path = \"/content/document.txt\""
      ]
    },
    {
      "cell_type": "code",
      "execution_count": null,
      "metadata": {
        "colab": {
          "base_uri": "https://localhost:8080/"
        },
        "id": "_qnizzlvhYcV",
        "outputId": "63bc093b-d41d-4387-e5e1-fb2b1b0e812f"
      },
      "outputs": [
        {
          "name": "stdout",
          "output_type": "stream",
          "text": [
            "In Python, a generator is a special type of function or expression that creates an iterator. Unlike regular functions that compute and return a value, generators \"yield\" values one at a time, pausing execution and saving their state. This allows them to resume from where they left off when the next value is requested.\n",
            "Key characteristics of Python generators:\n",
            "Lazy Evaluation:\n",
            "Generators compute values on demand, meaning they only generate a value when it is explicitly requested (e.g., during iteration). This makes them highly memory-efficient, especially when dealing with large datasets or infinite sequences, as they do not store all values in memory simultaneously.\n",
            "yield Keyword:\n",
            "The defining feature of a generator function is the use of the yield keyword instead of return. When yield is encountered, the function pauses, returns the yielded value, and retains its internal state. The next time the generator is called, it resumes execution from the point of the last yield.\n",
            "Iterator Protocol:\n",
            "Generators implicitly implement the iterator protocol, meaning they can be directly used in for loops and other contexts that expect iterators.\n",
            "Generator Expressions:\n",
            "Similar to list comprehensions, generator expressions provide a concise way to create generator objects using parentheses instead of square brackets, e.g., (expression for item in iterable).\n"
          ]
        }
      ],
      "source": [
        "for line in read_large_file(file_path):\n",
        "  print(line.strip())"
      ]
    },
    {
      "cell_type": "markdown",
      "metadata": {
        "id": "Y-rtc3xxh3HF"
      },
      "source": [
        "### Decorators\n",
        "Deocrators are powerful and flexible feature in Python that allwos you to modify the behaviou of function or classs method. They are commonly used to add functionality to functions or methods without modifying their actual code."
      ]
    },
    {
      "cell_type": "code",
      "execution_count": null,
      "metadata": {
        "id": "X84RJlyvie_v"
      },
      "outputs": [],
      "source": [
        "## Function copy\n",
        "def welcome():\n",
        "  return \"Welcome to the advanced python course\""
      ]
    },
    {
      "cell_type": "code",
      "execution_count": null,
      "metadata": {
        "colab": {
          "base_uri": "https://localhost:8080/",
          "height": 35
        },
        "id": "UNKHqwsxjGKV",
        "outputId": "26edcf0b-702c-4afa-9a61-3fb3e930c77d"
      },
      "outputs": [
        {
          "data": {
            "application/vnd.google.colaboratory.intrinsic+json": {
              "type": "string"
            },
            "text/plain": [
              "'Welcome to the advanced python course'"
            ]
          },
          "execution_count": 53,
          "metadata": {},
          "output_type": "execute_result"
        }
      ],
      "source": [
        "welcome()"
      ]
    },
    {
      "cell_type": "code",
      "execution_count": null,
      "metadata": {
        "colab": {
          "base_uri": "https://localhost:8080/"
        },
        "id": "dtMlPSm1jGJV",
        "outputId": "668fb431-1e0d-49bf-b83e-d2a3e64e7989"
      },
      "outputs": [
        {
          "name": "stdout",
          "output_type": "stream",
          "text": [
            "Welcome to the advanced python course\n"
          ]
        }
      ],
      "source": [
        "wel = welcome\n",
        "\n",
        "print(wel())"
      ]
    },
    {
      "cell_type": "code",
      "execution_count": null,
      "metadata": {
        "colab": {
          "base_uri": "https://localhost:8080/"
        },
        "id": "3sIuHQVpjidc",
        "outputId": "e4a568e9-5ea6-4771-8c93-2fe3a5ba9bdc"
      },
      "outputs": [
        {
          "name": "stdout",
          "output_type": "stream",
          "text": [
            "Welcome to the advanced python course\n",
            "Welcome to the advanced python course\n"
          ]
        }
      ],
      "source": [
        "print(wel())\n",
        "del welcome\n",
        "print(wel())"
      ]
    },
    {
      "cell_type": "code",
      "execution_count": null,
      "metadata": {
        "id": "BOcy0KZwjicW"
      },
      "outputs": [],
      "source": [
        "### Closures ---> Return type is the sub method. Its method within the method\n",
        "\n",
        "\"\"\"\n",
        "A closure is a function that retains access to its lexical scope, even when the function is executed outside that scope.\n",
        "When the enclosing function returns the inner function,\n",
        "then you get a function object with an extended scope.\n",
        "\"\"\"\n",
        "\n",
        "def main_message():\n",
        "  mesg = \"Well come\"\n",
        "  def sub_welcome_method():\n",
        "    print(mesg)\n",
        "    print(\"Welcome to the advanced python course\")\n",
        "    print( \"Please learn the concepts properly\")\n",
        "\n",
        "  return sub_welcome_method()\n"
      ]
    },
    {
      "cell_type": "code",
      "execution_count": null,
      "metadata": {
        "colab": {
          "base_uri": "https://localhost:8080/"
        },
        "id": "Z1-iRYZDkTPO",
        "outputId": "de1ca225-4ccf-4d5f-e47c-a0c568e5cbb1"
      },
      "outputs": [
        {
          "name": "stdout",
          "output_type": "stream",
          "text": [
            "Well come\n",
            "Welcome to the advanced python course\n",
            "Please learn the concepts properly\n"
          ]
        }
      ],
      "source": [
        "main_message()"
      ]
    },
    {
      "cell_type": "code",
      "execution_count": null,
      "metadata": {
        "id": "_gfftlRKmJ6I"
      },
      "outputs": [],
      "source": [
        "### Closures\n",
        "\n",
        "def main_message(func,lst):\n",
        "  mesg = \"Well come\"\n",
        "  def sub_welcome_method():\n",
        "    print(func(lst))\n",
        "    print(\"Welcome to the advanced python course\")\n",
        "    print( \"Please learn the concepts properly\")\n",
        "\n",
        "  return sub_welcome_method()\n"
      ]
    },
    {
      "cell_type": "code",
      "execution_count": null,
      "metadata": {
        "colab": {
          "base_uri": "https://localhost:8080/"
        },
        "id": "rLZyThvdmJ4o",
        "outputId": "9170b94b-82ab-4429-b445-4493aece4d50"
      },
      "outputs": [
        {
          "name": "stdout",
          "output_type": "stream",
          "text": [
            "3\n",
            "Welcome to the advanced python course\n",
            "Please learn the concepts properly\n"
          ]
        }
      ],
      "source": [
        "main_message(len,[\"a\",\"b\",\"c\"])"
      ]
    },
    {
      "cell_type": "code",
      "execution_count": null,
      "metadata": {
        "id": "7A6BbIuhmJxI"
      },
      "outputs": [],
      "source": [
        "### Decorator\n",
        "\n",
        "def main_message(func):\n",
        "  mesg = \"Well come\"\n",
        "  def sub_welcome_method():\n",
        "    func()\n",
        "    print(\"Welcome to the advanced python course\")\n",
        "    print( \"Please learn the concepts properly\")\n",
        "\n",
        "  return sub_welcome_method()\n"
      ]
    },
    {
      "cell_type": "code",
      "execution_count": null,
      "metadata": {
        "id": "BK065V8dnRzI"
      },
      "outputs": [],
      "source": [
        "def course_introduction():\n",
        "  print(\"This is an advanced python course\")"
      ]
    },
    {
      "cell_type": "code",
      "execution_count": null,
      "metadata": {
        "colab": {
          "base_uri": "https://localhost:8080/"
        },
        "id": "8NPUJiO8nm-M",
        "outputId": "442670a5-c6db-496e-bc24-902eb5b698ae"
      },
      "outputs": [
        {
          "name": "stdout",
          "output_type": "stream",
          "text": [
            "This is an advanced python course\n",
            "Welcome to the advanced python course\n",
            "Please learn the concepts properly\n"
          ]
        }
      ],
      "source": [
        "main_message(course_introduction)"
      ]
    },
    {
      "cell_type": "code",
      "execution_count": null,
      "metadata": {
        "colab": {
          "base_uri": "https://localhost:8080/"
        },
        "id": "scqCF1xOnm9I",
        "outputId": "8570e094-6e45-473e-954b-fa76570a33b1"
      },
      "outputs": [
        {
          "name": "stdout",
          "output_type": "stream",
          "text": [
            "This is an advanced python course\n",
            "Welcome to the advanced python course\n",
            "Please learn the concepts properly\n"
          ]
        }
      ],
      "source": [
        "@main_message  # the course introduction is now passed as a parameter intot the main_message function. The function is automatically called.\n",
        "def course_introduction():\n",
        "  print(\"This is an advanced python course\")"
      ]
    },
    {
      "cell_type": "code",
      "execution_count": null,
      "metadata": {
        "colab": {
          "base_uri": "https://localhost:8080/"
        },
        "id": "JiNVWjfaqI8I",
        "outputId": "47972386-333f-43b5-d343-3a273832b3e2"
      },
      "outputs": [
        {
          "name": "stdout",
          "output_type": "stream",
          "text": [
            "Before calling the function.\n",
            "Hello, World!\n",
            "After calling the function.\n"
          ]
        }
      ],
      "source": [
        "def decorator(func):\n",
        "    def wrapper():\n",
        "        print(\"Before calling the function.\")\n",
        "        func()\n",
        "        print(\"After calling the function.\")\n",
        "    return wrapper\n",
        "\n",
        "@decorator # Applying the decorator to a function\n",
        "def greet():\n",
        "    print(\"Hello, World!\")\n",
        "greet()"
      ]
    },
    {
      "cell_type": "code",
      "execution_count": null,
      "metadata": {
        "id": "eaizLpRIqT23"
      },
      "outputs": [],
      "source": [
        "# Decorators with arguments\n",
        "\n",
        "def repeat(n):\n",
        "  def decorator(func):\n",
        "    def wrapper(*args,**kwargs):\n",
        "      for _ in range(n):\n",
        "        func(*args,**kwargs)\n",
        "    return wrapper\n",
        "  return decorator"
      ]
    },
    {
      "cell_type": "code",
      "execution_count": null,
      "metadata": {
        "id": "6ZWnXXifquqm"
      },
      "outputs": [],
      "source": [
        "@repeat(3)\n",
        "def greet(name):\n",
        "  print(f\"Hello {name}\")"
      ]
    },
    {
      "cell_type": "code",
      "execution_count": null,
      "metadata": {
        "colab": {
          "base_uri": "https://localhost:8080/"
        },
        "id": "dLttphLqqupY",
        "outputId": "a4f84c75-9afc-4361-ee2a-aa280c8945c1"
      },
      "outputs": [
        {
          "name": "stdout",
          "output_type": "stream",
          "text": [
            "Hello Yashwanth\n",
            "Hello Yashwanth\n",
            "Hello Yashwanth\n"
          ]
        }
      ],
      "source": [
        "greet(\"Yashwanth\")"
      ]
    },
    {
      "cell_type": "code",
      "execution_count": null,
      "metadata": {
        "id": "oJKo0-2Wq6GX"
      },
      "outputs": [],
      "source": []
    }
  ],
  "metadata": {
    "colab": {
      "provenance": []
    },
    "kernelspec": {
      "display_name": "Python 3",
      "name": "python3"
    },
    "language_info": {
      "name": "python"
    }
  },
  "nbformat": 4,
  "nbformat_minor": 0
}
